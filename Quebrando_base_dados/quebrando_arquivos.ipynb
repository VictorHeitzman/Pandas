{
 "cells": [
  {
   "cell_type": "code",
   "execution_count": 27,
   "metadata": {},
   "outputs": [
    {
     "data": {
      "text/plain": [
       "(168, 4)"
      ]
     },
     "execution_count": 27,
     "metadata": {},
     "output_type": "execute_result"
    }
   ],
   "source": [
    "import pandas as pd # importando biblíoteca\n",
    "\n",
    "\n",
    "df = pd.read_excel(r'arquivos\\Vendas_Jan.xlsx') # Lendo arquivo .xlsx e criando df (base completa)\n",
    "df.shape\n",
    "\n",
    "df_unique = df.drop_duplicates('Vendedor') # Removendo Duplicatas (Criando um df com valores únicos)\n",
    "\n",
    "for vendedor in df_unique['Vendedor']: # Percorrendo cada vendedor em df_unique\n",
    "\n",
    "    base_quebrada = df.loc[df['Vendedor'] == vendedor] # Filtrando o vendedor na base completa e guardando em um df\n",
    "    base_quebrada.to_excel(f'vendas_{vendedor}.xlsx',index=False) # exportando em csv a cada vendedor percorrido"
   ]
  }
 ],
 "metadata": {
  "kernelspec": {
   "display_name": "Python 3",
   "language": "python",
   "name": "python3"
  },
  "language_info": {
   "codemirror_mode": {
    "name": "ipython",
    "version": 3
   },
   "file_extension": ".py",
   "mimetype": "text/x-python",
   "name": "python",
   "nbconvert_exporter": "python",
   "pygments_lexer": "ipython3",
   "version": "3.11.3"
  },
  "orig_nbformat": 4
 },
 "nbformat": 4,
 "nbformat_minor": 2
}
